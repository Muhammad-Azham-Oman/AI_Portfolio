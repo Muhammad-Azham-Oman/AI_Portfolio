{
 "cells": [
  {
   "cell_type": "code",
   "execution_count": 11,
   "id": "b232494e-309d-429c-98c6-9a83375c603c",
   "metadata": {},
   "outputs": [],
   "source": [
    "import pandas as pd"
   ]
  },
  {
   "cell_type": "code",
   "execution_count": 12,
   "id": "3f31a331-48fb-43e8-9e20-a4606e8bfd3e",
   "metadata": {},
   "outputs": [],
   "source": [
    "data = pd.read_csv(\"height_weight.csv\")"
   ]
  },
  {
   "cell_type": "code",
   "execution_count": 13,
   "id": "a6571031-d88d-4a11-ac91-783974ad5c0f",
   "metadata": {},
   "outputs": [
    {
     "data": {
      "text/plain": [
       "(10000, 3)"
      ]
     },
     "execution_count": 13,
     "metadata": {},
     "output_type": "execute_result"
    }
   ],
   "source": [
    "data.shape"
   ]
  },
  {
   "cell_type": "code",
   "execution_count": 14,
   "id": "901449a8-bedf-4abb-ae35-4da41d35c131",
   "metadata": {},
   "outputs": [
    {
     "data": {
      "text/html": [
       "<div>\n",
       "<style scoped>\n",
       "    .dataframe tbody tr th:only-of-type {\n",
       "        vertical-align: middle;\n",
       "    }\n",
       "\n",
       "    .dataframe tbody tr th {\n",
       "        vertical-align: top;\n",
       "    }\n",
       "\n",
       "    .dataframe thead th {\n",
       "        text-align: right;\n",
       "    }\n",
       "</style>\n",
       "<table border=\"1\" class=\"dataframe\">\n",
       "  <thead>\n",
       "    <tr style=\"text-align: right;\">\n",
       "      <th></th>\n",
       "      <th>gender</th>\n",
       "      <th>height</th>\n",
       "      <th>weight</th>\n",
       "    </tr>\n",
       "  </thead>\n",
       "  <tbody>\n",
       "    <tr>\n",
       "      <th>0</th>\n",
       "      <td>Male</td>\n",
       "      <td>73.847017</td>\n",
       "      <td>241.893563</td>\n",
       "    </tr>\n",
       "    <tr>\n",
       "      <th>1</th>\n",
       "      <td>Male</td>\n",
       "      <td>68.781904</td>\n",
       "      <td>162.310473</td>\n",
       "    </tr>\n",
       "    <tr>\n",
       "      <th>2</th>\n",
       "      <td>Male</td>\n",
       "      <td>74.110105</td>\n",
       "      <td>212.740856</td>\n",
       "    </tr>\n",
       "    <tr>\n",
       "      <th>3</th>\n",
       "      <td>Male</td>\n",
       "      <td>71.730978</td>\n",
       "      <td>220.042470</td>\n",
       "    </tr>\n",
       "    <tr>\n",
       "      <th>4</th>\n",
       "      <td>Male</td>\n",
       "      <td>69.881796</td>\n",
       "      <td>206.349801</td>\n",
       "    </tr>\n",
       "  </tbody>\n",
       "</table>\n",
       "</div>"
      ],
      "text/plain": [
       "  gender     height      weight\n",
       "0   Male  73.847017  241.893563\n",
       "1   Male  68.781904  162.310473\n",
       "2   Male  74.110105  212.740856\n",
       "3   Male  71.730978  220.042470\n",
       "4   Male  69.881796  206.349801"
      ]
     },
     "execution_count": 14,
     "metadata": {},
     "output_type": "execute_result"
    }
   ],
   "source": [
    "data.head()"
   ]
  },
  {
   "cell_type": "code",
   "execution_count": 16,
   "id": "cbf96070-2434-4bdd-81e2-3ac0d9a6bdd2",
   "metadata": {},
   "outputs": [],
   "source": [
    "data = data.drop(columns=['gender'])"
   ]
  },
  {
   "cell_type": "code",
   "execution_count": 17,
   "id": "e4b47b35-0249-4910-9f24-01f68f99210c",
   "metadata": {},
   "outputs": [
    {
     "data": {
      "text/html": [
       "<div>\n",
       "<style scoped>\n",
       "    .dataframe tbody tr th:only-of-type {\n",
       "        vertical-align: middle;\n",
       "    }\n",
       "\n",
       "    .dataframe tbody tr th {\n",
       "        vertical-align: top;\n",
       "    }\n",
       "\n",
       "    .dataframe thead th {\n",
       "        text-align: right;\n",
       "    }\n",
       "</style>\n",
       "<table border=\"1\" class=\"dataframe\">\n",
       "  <thead>\n",
       "    <tr style=\"text-align: right;\">\n",
       "      <th></th>\n",
       "      <th>height</th>\n",
       "      <th>weight</th>\n",
       "    </tr>\n",
       "  </thead>\n",
       "  <tbody>\n",
       "    <tr>\n",
       "      <th>count</th>\n",
       "      <td>10000.000000</td>\n",
       "      <td>10000.000000</td>\n",
       "    </tr>\n",
       "    <tr>\n",
       "      <th>mean</th>\n",
       "      <td>66.367560</td>\n",
       "      <td>161.440357</td>\n",
       "    </tr>\n",
       "    <tr>\n",
       "      <th>std</th>\n",
       "      <td>3.847528</td>\n",
       "      <td>32.108439</td>\n",
       "    </tr>\n",
       "    <tr>\n",
       "      <th>min</th>\n",
       "      <td>54.263133</td>\n",
       "      <td>64.700127</td>\n",
       "    </tr>\n",
       "    <tr>\n",
       "      <th>25%</th>\n",
       "      <td>63.505620</td>\n",
       "      <td>135.818051</td>\n",
       "    </tr>\n",
       "    <tr>\n",
       "      <th>50%</th>\n",
       "      <td>66.318070</td>\n",
       "      <td>161.212928</td>\n",
       "    </tr>\n",
       "    <tr>\n",
       "      <th>75%</th>\n",
       "      <td>69.174262</td>\n",
       "      <td>187.169525</td>\n",
       "    </tr>\n",
       "    <tr>\n",
       "      <th>max</th>\n",
       "      <td>78.998742</td>\n",
       "      <td>269.989699</td>\n",
       "    </tr>\n",
       "  </tbody>\n",
       "</table>\n",
       "</div>"
      ],
      "text/plain": [
       "             height        weight\n",
       "count  10000.000000  10000.000000\n",
       "mean      66.367560    161.440357\n",
       "std        3.847528     32.108439\n",
       "min       54.263133     64.700127\n",
       "25%       63.505620    135.818051\n",
       "50%       66.318070    161.212928\n",
       "75%       69.174262    187.169525\n",
       "max       78.998742    269.989699"
      ]
     },
     "execution_count": 17,
     "metadata": {},
     "output_type": "execute_result"
    }
   ],
   "source": [
    "data.describe()"
   ]
  },
  {
   "cell_type": "code",
   "execution_count": 26,
   "id": "d5e04f53-5383-4160-a432-715008243ca1",
   "metadata": {},
   "outputs": [
    {
     "name": "stdout",
     "output_type": "stream",
     "text": [
      "63.505620481218955 69.1742617268347\n"
     ]
    }
   ],
   "source": [
    "Q1 = data['height'].quantile(0.25)\n",
    "Q3 = data['height'].quantile(0.75)\n",
    "print(Q1 , Q3)"
   ]
  },
  {
   "cell_type": "code",
   "execution_count": 27,
   "id": "6e95a75b-d02b-47f0-9395-9d5e0e4ee073",
   "metadata": {},
   "outputs": [],
   "source": [
    "IQR = Q3-Q1"
   ]
  },
  {
   "cell_type": "code",
   "execution_count": 28,
   "id": "fe49c074-88b0-47fe-b7b1-e4e0683f6836",
   "metadata": {},
   "outputs": [
    {
     "data": {
      "text/plain": [
       "np.float64(5.668641245615746)"
      ]
     },
     "execution_count": 28,
     "metadata": {},
     "output_type": "execute_result"
    }
   ],
   "source": [
    "IQR"
   ]
  },
  {
   "cell_type": "code",
   "execution_count": 29,
   "id": "d4317c92-c866-493d-83a1-ef4f5aa47754",
   "metadata": {},
   "outputs": [
    {
     "data": {
      "text/plain": [
       "(np.float64(55.00265861279534), np.float64(72.00858234964258))"
      ]
     },
     "execution_count": 29,
     "metadata": {},
     "output_type": "execute_result"
    }
   ],
   "source": [
    "lower_limit = Q1-1.5*IQR\n",
    "upper_limit = Q1+1.5*IQR\n",
    "lower_limit , upper_limit"
   ]
  },
  {
   "cell_type": "code",
   "execution_count": null,
   "id": "12164682-572d-4127-95c3-519433ddd228",
   "metadata": {},
   "outputs": [
    {
     "ename": "ValueError",
     "evalue": "Boolean array expected for the condition, not object",
     "output_type": "error",
     "traceback": [
      "\u001b[31m---------------------------------------------------------------------------\u001b[39m",
      "\u001b[31mValueError\u001b[39m                                Traceback (most recent call last)",
      "\u001b[32m~\\AppData\\Local\\Temp\\ipykernel_13404\\3990692155.py\u001b[39m in \u001b[36m?\u001b[39m\u001b[34m()\u001b[39m\n\u001b[32m----> \u001b[39m\u001b[32m1\u001b[39m data[\u001b[33m'height'\u001b[39m] = data[data[(data[\u001b[33m'height'\u001b[39m] > lower_limit) & (data[\u001b[33m'height'\u001b[39m] < upper_limit)]]\n",
      "\u001b[32mC:\\ProgramData\\anaconda3\\Lib\\site-packages\\pandas\\core\\frame.py\u001b[39m in \u001b[36m?\u001b[39m\u001b[34m(self, key)\u001b[39m\n\u001b[32m   4085\u001b[39m             \u001b[38;5;28;01mreturn\u001b[39;00m self._getitem_slice(key)\n\u001b[32m   4086\u001b[39m \n\u001b[32m   4087\u001b[39m         \u001b[38;5;66;03m# Do we have a (boolean) DataFrame?\u001b[39;00m\n\u001b[32m   4088\u001b[39m         \u001b[38;5;28;01mif\u001b[39;00m isinstance(key, DataFrame):\n\u001b[32m-> \u001b[39m\u001b[32m4089\u001b[39m             \u001b[38;5;28;01mreturn\u001b[39;00m self.where(key)\n\u001b[32m   4090\u001b[39m \n\u001b[32m   4091\u001b[39m         \u001b[38;5;66;03m# Do we have a (boolean) 1d indexer?\u001b[39;00m\n\u001b[32m   4092\u001b[39m         \u001b[38;5;28;01mif\u001b[39;00m com.is_bool_indexer(key):\n",
      "\u001b[32mC:\\ProgramData\\anaconda3\\Lib\\site-packages\\pandas\\core\\generic.py\u001b[39m in \u001b[36m?\u001b[39m\u001b[34m(self, cond, other, inplace, axis, level)\u001b[39m\n\u001b[32m  10980\u001b[39m                         stacklevel=\u001b[32m2\u001b[39m,\n\u001b[32m  10981\u001b[39m                     )\n\u001b[32m  10982\u001b[39m \n\u001b[32m  10983\u001b[39m         other = common.apply_if_callable(other, self)\n\u001b[32m> \u001b[39m\u001b[32m10984\u001b[39m         \u001b[38;5;28;01mreturn\u001b[39;00m self._where(cond, other, inplace, axis, level)\n",
      "\u001b[32mC:\\ProgramData\\anaconda3\\Lib\\site-packages\\pandas\\core\\generic.py\u001b[39m in \u001b[36m?\u001b[39m\u001b[34m(self, cond, other, inplace, axis, level, warn)\u001b[39m\n\u001b[32m  10669\u001b[39m                     \u001b[38;5;28;01mraise\u001b[39;00m ValueError(msg.format(dtype=cond.dtype))\n\u001b[32m  10670\u001b[39m             \u001b[38;5;28;01melse\u001b[39;00m:\n\u001b[32m  10671\u001b[39m                 \u001b[38;5;28;01mfor\u001b[39;00m _dt \u001b[38;5;28;01min\u001b[39;00m cond.dtypes:\n\u001b[32m  10672\u001b[39m                     \u001b[38;5;28;01mif\u001b[39;00m \u001b[38;5;28;01mnot\u001b[39;00m is_bool_dtype(_dt):\n\u001b[32m> \u001b[39m\u001b[32m10673\u001b[39m                         \u001b[38;5;28;01mraise\u001b[39;00m ValueError(msg.format(dtype=_dt))\n\u001b[32m  10674\u001b[39m                 \u001b[38;5;28;01mif\u001b[39;00m cond._mgr.any_extension_types:\n\u001b[32m  10675\u001b[39m                     \u001b[38;5;66;03m# GH51574: avoid object ndarray conversion later on\u001b[39;00m\n\u001b[32m  10676\u001b[39m                     cond = cond._constructor(\n",
      "\u001b[31mValueError\u001b[39m: Boolean array expected for the condition, not object"
     ]
    }
   ],
   "source": [
    "import numpy as np\n",
    "\n",
    "data['height'] = np.where(\n",
    "    (data['height'] > lower_limit) & (data['height'] < upper_limit),\n",
    "    data['height'],\n",
    "    np.nan\n",
    ")"
   ]
  },
  {
   "cell_type": "code",
   "execution_count": null,
   "id": "465b40fa-e210-418f-b87f-25c0baf40776",
   "metadata": {},
   "outputs": [],
   "source": []
  }
 ],
 "metadata": {
  "kernelspec": {
   "display_name": "Python 3 (ipykernel)",
   "language": "python",
   "name": "python3"
  },
  "language_info": {
   "codemirror_mode": {
    "name": "ipython",
    "version": 3
   },
   "file_extension": ".py",
   "mimetype": "text/x-python",
   "name": "python",
   "nbconvert_exporter": "python",
   "pygments_lexer": "ipython3",
   "version": "3.13.5"
  }
 },
 "nbformat": 4,
 "nbformat_minor": 5
}
